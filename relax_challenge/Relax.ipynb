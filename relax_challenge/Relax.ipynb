{
 "cells": [
  {
   "cell_type": "code",
   "execution_count": 572,
   "id": "604b0254",
   "metadata": {},
   "outputs": [],
   "source": [
    "#Import necessary packages \n",
    "import matplotlib.pyplot as plt\n",
    "import seaborn as sns\n",
    "import pandas as pd\n",
    "import numpy as np"
   ]
  },
  {
   "cell_type": "code",
   "execution_count": 573,
   "id": "4bebd6a8",
   "metadata": {},
   "outputs": [],
   "source": [
    "# suppress future warnings\n",
    "import warnings\n",
    "warnings.simplefilter(action='ignore', category=FutureWarning)\n",
    "warnings.simplefilter(action='ignore', category=UserWarning)"
   ]
  },
  {
   "cell_type": "markdown",
   "id": "bac6869c",
   "metadata": {},
   "source": [
    "The  data  is  available  as  two  attached  CSV  files:\n",
    "\n",
    "`takehome_user_engagement.csv`\n",
    "\n",
    "`takehome_users.csv`\n",
    "\n",
    "\n",
    "The  data  has  the  following  two  tables:\n",
    "\n",
    " 1  A  user  table  ( \"takehome_users\" )  with  data  on  12,000  users  who  signed  up  for  the\n",
    " product  in  the  last  two  years.   This  table  includes:\n",
    " \n",
    "    ● name:  the  user's  name\n",
    "    ● object_id:   the  user's  id\n",
    "    ● email:  email  address\n",
    "    ● creation_source:   how  their  account  was  created.  This  takes  on  oneof  5  values:\n",
    "        ○ PERSONAL_PROJECTS:  invited  to  join  another  user's personal  workspace\n",
    "        ○ GUEST_INVITE:  invited  to  an  organization  as  a  guest(limited  permissions)\n",
    "        ○ ORG_INVITE:  invited  to  an  organization  (as  a  full  member)\n",
    "        ○ SIGNUP:  signed  up  via  the  website\n",
    "        ○ SIGNUP_GOOGLE_AUTH:  signed  up  using  Google Authentication  (using  a  Google  email  account  for  their loginid)\n",
    "    ● creation_time:  when  they  created  their  account\n",
    "    ● last_session_creation_time:   unix  timestamp  of  last  login\n",
    "    ● opted_in_to_mailing_list:  whether  they  have  opted  into  receiving  marketing  emails\n",
    "    ● enabled_for_marketing_drip:  whether  they  are  on  the  regular marketing  email  drip\n",
    "    ● org_id:   the  organization  (group  of  users)  they  belong  to\n",
    "    ● invited_by_user_id:   which  user  invited  them  to  join  (if  applicable).\n",
    " 2  A  usage  summary  table  ( \"takehome_user_engagement\" )  that  has  a  row  for  each  day\n",
    "that  a  user  logged  into  the  product\n",
    "\n",
    "Defining  an  \"adopted  user\"   as  a  user  who   has  logged  into  the  product  on  three  separate\n",
    "days  in  at  least  one  seven­day  period ,  identify  which  factors  predict  future  user\n",
    "adoption .\n",
    "We  suggest  spending  1-2  hours  on  this,  but  you're  welcome  to  spend  more  or  less.\n",
    "Please  send  us  a  brief  writeup  of  your  findings  (the  more  concise,  the  better  ­­  no  more\n",
    "than  one  page),  along  with  any  summary  tables,  graphs,  code,  or  queries  that  can  help\n",
    "us  understand  your  approach.  Please  note  any  factors  you  considered  or  investigation\n",
    "you  did,  even  if  they  did  not  pan  out.  Feel  free  to  identify  any  further  research  or  data\n",
    "you  think  would  be  valuable"
   ]
  },
  {
   "cell_type": "markdown",
   "id": "564958af",
   "metadata": {},
   "source": [
    "## Data Wrangling\n",
    "\n",
    "Load the data and take a peek."
   ]
  },
  {
   "cell_type": "code",
   "execution_count": 574,
   "id": "7108ab25",
   "metadata": {},
   "outputs": [],
   "source": [
    "## Load data \n",
    "df1 = pd.read_csv(\"takehome_users.csv\", encoding_errors='replace')\n",
    "df2 = pd.read_csv(\"takehome_user_engagement.csv\")"
   ]
  },
  {
   "cell_type": "code",
   "execution_count": 575,
   "id": "c161ad7c",
   "metadata": {
    "scrolled": true
   },
   "outputs": [
    {
     "data": {
      "text/html": [
       "<div>\n",
       "<style scoped>\n",
       "    .dataframe tbody tr th:only-of-type {\n",
       "        vertical-align: middle;\n",
       "    }\n",
       "\n",
       "    .dataframe tbody tr th {\n",
       "        vertical-align: top;\n",
       "    }\n",
       "\n",
       "    .dataframe thead th {\n",
       "        text-align: right;\n",
       "    }\n",
       "</style>\n",
       "<table border=\"1\" class=\"dataframe\">\n",
       "  <thead>\n",
       "    <tr style=\"text-align: right;\">\n",
       "      <th></th>\n",
       "      <th>object_id</th>\n",
       "      <th>creation_time</th>\n",
       "      <th>name</th>\n",
       "      <th>email</th>\n",
       "      <th>creation_source</th>\n",
       "      <th>last_session_creation_time</th>\n",
       "      <th>opted_in_to_mailing_list</th>\n",
       "      <th>enabled_for_marketing_drip</th>\n",
       "      <th>org_id</th>\n",
       "      <th>invited_by_user_id</th>\n",
       "    </tr>\n",
       "  </thead>\n",
       "  <tbody>\n",
       "    <tr>\n",
       "      <th>0</th>\n",
       "      <td>1</td>\n",
       "      <td>2014-04-22 03:53:30</td>\n",
       "      <td>Clausen August</td>\n",
       "      <td>AugustCClausen@yahoo.com</td>\n",
       "      <td>GUEST_INVITE</td>\n",
       "      <td>1.398139e+09</td>\n",
       "      <td>1</td>\n",
       "      <td>0</td>\n",
       "      <td>11</td>\n",
       "      <td>10803.0</td>\n",
       "    </tr>\n",
       "    <tr>\n",
       "      <th>1</th>\n",
       "      <td>2</td>\n",
       "      <td>2013-11-15 03:45:04</td>\n",
       "      <td>Poole Matthew</td>\n",
       "      <td>MatthewPoole@gustr.com</td>\n",
       "      <td>ORG_INVITE</td>\n",
       "      <td>1.396238e+09</td>\n",
       "      <td>0</td>\n",
       "      <td>0</td>\n",
       "      <td>1</td>\n",
       "      <td>316.0</td>\n",
       "    </tr>\n",
       "    <tr>\n",
       "      <th>2</th>\n",
       "      <td>3</td>\n",
       "      <td>2013-03-19 23:14:52</td>\n",
       "      <td>Bottrill Mitchell</td>\n",
       "      <td>MitchellBottrill@gustr.com</td>\n",
       "      <td>ORG_INVITE</td>\n",
       "      <td>1.363735e+09</td>\n",
       "      <td>0</td>\n",
       "      <td>0</td>\n",
       "      <td>94</td>\n",
       "      <td>1525.0</td>\n",
       "    </tr>\n",
       "    <tr>\n",
       "      <th>3</th>\n",
       "      <td>4</td>\n",
       "      <td>2013-05-21 08:09:28</td>\n",
       "      <td>Clausen Nicklas</td>\n",
       "      <td>NicklasSClausen@yahoo.com</td>\n",
       "      <td>GUEST_INVITE</td>\n",
       "      <td>1.369210e+09</td>\n",
       "      <td>0</td>\n",
       "      <td>0</td>\n",
       "      <td>1</td>\n",
       "      <td>5151.0</td>\n",
       "    </tr>\n",
       "    <tr>\n",
       "      <th>4</th>\n",
       "      <td>5</td>\n",
       "      <td>2013-01-17 10:14:20</td>\n",
       "      <td>Raw Grace</td>\n",
       "      <td>GraceRaw@yahoo.com</td>\n",
       "      <td>GUEST_INVITE</td>\n",
       "      <td>1.358850e+09</td>\n",
       "      <td>0</td>\n",
       "      <td>0</td>\n",
       "      <td>193</td>\n",
       "      <td>5240.0</td>\n",
       "    </tr>\n",
       "  </tbody>\n",
       "</table>\n",
       "</div>"
      ],
      "text/plain": [
       "   object_id        creation_time               name  \\\n",
       "0          1  2014-04-22 03:53:30     Clausen August   \n",
       "1          2  2013-11-15 03:45:04      Poole Matthew   \n",
       "2          3  2013-03-19 23:14:52  Bottrill Mitchell   \n",
       "3          4  2013-05-21 08:09:28    Clausen Nicklas   \n",
       "4          5  2013-01-17 10:14:20          Raw Grace   \n",
       "\n",
       "                        email creation_source  last_session_creation_time  \\\n",
       "0    AugustCClausen@yahoo.com    GUEST_INVITE                1.398139e+09   \n",
       "1      MatthewPoole@gustr.com      ORG_INVITE                1.396238e+09   \n",
       "2  MitchellBottrill@gustr.com      ORG_INVITE                1.363735e+09   \n",
       "3   NicklasSClausen@yahoo.com    GUEST_INVITE                1.369210e+09   \n",
       "4          GraceRaw@yahoo.com    GUEST_INVITE                1.358850e+09   \n",
       "\n",
       "   opted_in_to_mailing_list  enabled_for_marketing_drip  org_id  \\\n",
       "0                         1                           0      11   \n",
       "1                         0                           0       1   \n",
       "2                         0                           0      94   \n",
       "3                         0                           0       1   \n",
       "4                         0                           0     193   \n",
       "\n",
       "   invited_by_user_id  \n",
       "0             10803.0  \n",
       "1               316.0  \n",
       "2              1525.0  \n",
       "3              5151.0  \n",
       "4              5240.0  "
      ]
     },
     "execution_count": 575,
     "metadata": {},
     "output_type": "execute_result"
    }
   ],
   "source": [
    "df1.head()"
   ]
  },
  {
   "cell_type": "code",
   "execution_count": 576,
   "id": "f2074303",
   "metadata": {},
   "outputs": [
    {
     "data": {
      "text/html": [
       "<div>\n",
       "<style scoped>\n",
       "    .dataframe tbody tr th:only-of-type {\n",
       "        vertical-align: middle;\n",
       "    }\n",
       "\n",
       "    .dataframe tbody tr th {\n",
       "        vertical-align: top;\n",
       "    }\n",
       "\n",
       "    .dataframe thead th {\n",
       "        text-align: right;\n",
       "    }\n",
       "</style>\n",
       "<table border=\"1\" class=\"dataframe\">\n",
       "  <thead>\n",
       "    <tr style=\"text-align: right;\">\n",
       "      <th></th>\n",
       "      <th>time_stamp</th>\n",
       "      <th>user_id</th>\n",
       "      <th>visited</th>\n",
       "    </tr>\n",
       "  </thead>\n",
       "  <tbody>\n",
       "    <tr>\n",
       "      <th>0</th>\n",
       "      <td>2014-04-22 03:53:30</td>\n",
       "      <td>1</td>\n",
       "      <td>1</td>\n",
       "    </tr>\n",
       "    <tr>\n",
       "      <th>1</th>\n",
       "      <td>2013-11-15 03:45:04</td>\n",
       "      <td>2</td>\n",
       "      <td>1</td>\n",
       "    </tr>\n",
       "    <tr>\n",
       "      <th>2</th>\n",
       "      <td>2013-11-29 03:45:04</td>\n",
       "      <td>2</td>\n",
       "      <td>1</td>\n",
       "    </tr>\n",
       "    <tr>\n",
       "      <th>3</th>\n",
       "      <td>2013-12-09 03:45:04</td>\n",
       "      <td>2</td>\n",
       "      <td>1</td>\n",
       "    </tr>\n",
       "    <tr>\n",
       "      <th>4</th>\n",
       "      <td>2013-12-25 03:45:04</td>\n",
       "      <td>2</td>\n",
       "      <td>1</td>\n",
       "    </tr>\n",
       "  </tbody>\n",
       "</table>\n",
       "</div>"
      ],
      "text/plain": [
       "            time_stamp  user_id  visited\n",
       "0  2014-04-22 03:53:30        1        1\n",
       "1  2013-11-15 03:45:04        2        1\n",
       "2  2013-11-29 03:45:04        2        1\n",
       "3  2013-12-09 03:45:04        2        1\n",
       "4  2013-12-25 03:45:04        2        1"
      ]
     },
     "execution_count": 576,
     "metadata": {},
     "output_type": "execute_result"
    }
   ],
   "source": [
    "df2.head()"
   ]
  },
  {
   "cell_type": "code",
   "execution_count": 577,
   "id": "29571a9e",
   "metadata": {
    "scrolled": true
   },
   "outputs": [
    {
     "name": "stdout",
     "output_type": "stream",
     "text": [
      "<class 'pandas.core.frame.DataFrame'>\n",
      "RangeIndex: 12000 entries, 0 to 11999\n",
      "Data columns (total 10 columns):\n",
      " #   Column                      Non-Null Count  Dtype  \n",
      "---  ------                      --------------  -----  \n",
      " 0   object_id                   12000 non-null  int64  \n",
      " 1   creation_time               12000 non-null  object \n",
      " 2   name                        12000 non-null  object \n",
      " 3   email                       12000 non-null  object \n",
      " 4   creation_source             12000 non-null  object \n",
      " 5   last_session_creation_time  8823 non-null   float64\n",
      " 6   opted_in_to_mailing_list    12000 non-null  int64  \n",
      " 7   enabled_for_marketing_drip  12000 non-null  int64  \n",
      " 8   org_id                      12000 non-null  int64  \n",
      " 9   invited_by_user_id          6417 non-null   float64\n",
      "dtypes: float64(2), int64(4), object(4)\n",
      "memory usage: 937.6+ KB\n"
     ]
    }
   ],
   "source": [
    "df1.info()"
   ]
  },
  {
   "cell_type": "code",
   "execution_count": 578,
   "id": "c96173c8",
   "metadata": {},
   "outputs": [
    {
     "name": "stdout",
     "output_type": "stream",
     "text": [
      "There were 8823 unique users and 207917 distinct logins in the user_engagement file\n"
     ]
    }
   ],
   "source": [
    "print(\"There were {} unique users and {} distinct logins in the user_engagement file\"\n",
    "      .format(df2['user_id'].nunique(), len(df2)))\n",
    "                                                                                             "
   ]
  },
  {
   "cell_type": "code",
   "execution_count": 579,
   "id": "26905f10",
   "metadata": {
    "scrolled": true
   },
   "outputs": [
    {
     "name": "stdout",
     "output_type": "stream",
     "text": [
      "This corresponds with the 8823 nonnull values in last_session_creation_time of the users file\n"
     ]
    }
   ],
   "source": [
    "print(\"This corresponds with the {} nonnull values in last_session_creation_time of the users file\".format(len(df1[~df1['last_session_creation_time'].isnull()])))"
   ]
  },
  {
   "cell_type": "markdown",
   "id": "d83efceb",
   "metadata": {},
   "source": [
    "### Find the adopted users"
   ]
  },
  {
   "cell_type": "code",
   "execution_count": 580,
   "id": "bbd6686c",
   "metadata": {},
   "outputs": [],
   "source": [
    "import datetime\n",
    "\n",
    "#set the time_stamp to datetime and the set it as the index\n",
    "df2.time_stamp = pd.to_datetime(df2.time_stamp)\n",
    "df2 = df2.set_index('time_stamp', drop= True)"
   ]
  },
  {
   "cell_type": "code",
   "execution_count": 581,
   "id": "edceb83f",
   "metadata": {},
   "outputs": [],
   "source": [
    "from datetime import timedelta\n",
    "\n",
    "def label_adopted(x):    \n",
    "    \"takes a users input and returns whether or not they have been active within any 7-day period\"\n",
    "    df_temp = df2.loc[df2['user_id'] == x] #select out rows of this user\n",
    "    df_temp = df_temp.resample('D').mean().dropna() #resample to show if active in a day. .mean() is just of 1\n",
    "    adopted = 0\n",
    "    for i in range(len(df_temp)-2): #loop over active days till the second to last day\n",
    "        if df_temp.index[i + 2] - df_temp.index[i] <= timedelta(days=7): # difference between every 1st and 3rd day\n",
    "            adopted = 1\n",
    "            break\n",
    "        else:\n",
    "            adopted = 0\n",
    "    return adopted \n",
    "\n",
    "\n",
    "    "
   ]
  },
  {
   "cell_type": "code",
   "execution_count": 582,
   "id": "0eedc4d2",
   "metadata": {},
   "outputs": [],
   "source": [
    "#apply to  df1 to label users as adopted=true \n",
    "df1['adopted_user'] = df1['object_id'].apply(label_adopted)"
   ]
  },
  {
   "cell_type": "code",
   "execution_count": 583,
   "id": "0a6e99c8",
   "metadata": {
    "scrolled": true
   },
   "outputs": [
    {
     "name": "stdout",
     "output_type": "stream",
     "text": [
      "There are 1656 adopted users out of the total 8823 users.\n"
     ]
    }
   ],
   "source": [
    "print(\"There are {} adopted users out of the total {} users.\".format(adopted_users.sum(),len(adopted_users)))"
   ]
  },
  {
   "cell_type": "code",
   "execution_count": 584,
   "id": "b780b861",
   "metadata": {
    "scrolled": true
   },
   "outputs": [
    {
     "data": {
      "text/html": [
       "<div>\n",
       "<style scoped>\n",
       "    .dataframe tbody tr th:only-of-type {\n",
       "        vertical-align: middle;\n",
       "    }\n",
       "\n",
       "    .dataframe tbody tr th {\n",
       "        vertical-align: top;\n",
       "    }\n",
       "\n",
       "    .dataframe thead th {\n",
       "        text-align: right;\n",
       "    }\n",
       "</style>\n",
       "<table border=\"1\" class=\"dataframe\">\n",
       "  <thead>\n",
       "    <tr style=\"text-align: right;\">\n",
       "      <th></th>\n",
       "      <th>object_id</th>\n",
       "      <th>creation_time</th>\n",
       "      <th>name</th>\n",
       "      <th>email</th>\n",
       "      <th>creation_source</th>\n",
       "      <th>last_session_creation_time</th>\n",
       "      <th>opted_in_to_mailing_list</th>\n",
       "      <th>enabled_for_marketing_drip</th>\n",
       "      <th>org_id</th>\n",
       "      <th>invited_by_user_id</th>\n",
       "      <th>adopted_user</th>\n",
       "    </tr>\n",
       "    <tr>\n",
       "      <th>user_id</th>\n",
       "      <th></th>\n",
       "      <th></th>\n",
       "      <th></th>\n",
       "      <th></th>\n",
       "      <th></th>\n",
       "      <th></th>\n",
       "      <th></th>\n",
       "      <th></th>\n",
       "      <th></th>\n",
       "      <th></th>\n",
       "      <th></th>\n",
       "    </tr>\n",
       "  </thead>\n",
       "  <tbody>\n",
       "    <tr>\n",
       "      <th>0</th>\n",
       "      <td>1</td>\n",
       "      <td>2014-04-22 03:53:30</td>\n",
       "      <td>Clausen August</td>\n",
       "      <td>AugustCClausen@yahoo.com</td>\n",
       "      <td>GUEST_INVITE</td>\n",
       "      <td>1.398139e+09</td>\n",
       "      <td>1</td>\n",
       "      <td>0</td>\n",
       "      <td>11</td>\n",
       "      <td>10803.0</td>\n",
       "      <td>0</td>\n",
       "    </tr>\n",
       "    <tr>\n",
       "      <th>1</th>\n",
       "      <td>2</td>\n",
       "      <td>2013-11-15 03:45:04</td>\n",
       "      <td>Poole Matthew</td>\n",
       "      <td>MatthewPoole@gustr.com</td>\n",
       "      <td>ORG_INVITE</td>\n",
       "      <td>1.396238e+09</td>\n",
       "      <td>0</td>\n",
       "      <td>0</td>\n",
       "      <td>1</td>\n",
       "      <td>316.0</td>\n",
       "      <td>1</td>\n",
       "    </tr>\n",
       "    <tr>\n",
       "      <th>2</th>\n",
       "      <td>3</td>\n",
       "      <td>2013-03-19 23:14:52</td>\n",
       "      <td>Bottrill Mitchell</td>\n",
       "      <td>MitchellBottrill@gustr.com</td>\n",
       "      <td>ORG_INVITE</td>\n",
       "      <td>1.363735e+09</td>\n",
       "      <td>0</td>\n",
       "      <td>0</td>\n",
       "      <td>94</td>\n",
       "      <td>1525.0</td>\n",
       "      <td>0</td>\n",
       "    </tr>\n",
       "    <tr>\n",
       "      <th>3</th>\n",
       "      <td>4</td>\n",
       "      <td>2013-05-21 08:09:28</td>\n",
       "      <td>Clausen Nicklas</td>\n",
       "      <td>NicklasSClausen@yahoo.com</td>\n",
       "      <td>GUEST_INVITE</td>\n",
       "      <td>1.369210e+09</td>\n",
       "      <td>0</td>\n",
       "      <td>0</td>\n",
       "      <td>1</td>\n",
       "      <td>5151.0</td>\n",
       "      <td>0</td>\n",
       "    </tr>\n",
       "    <tr>\n",
       "      <th>4</th>\n",
       "      <td>5</td>\n",
       "      <td>2013-01-17 10:14:20</td>\n",
       "      <td>Raw Grace</td>\n",
       "      <td>GraceRaw@yahoo.com</td>\n",
       "      <td>GUEST_INVITE</td>\n",
       "      <td>1.358850e+09</td>\n",
       "      <td>0</td>\n",
       "      <td>0</td>\n",
       "      <td>193</td>\n",
       "      <td>5240.0</td>\n",
       "      <td>0</td>\n",
       "    </tr>\n",
       "  </tbody>\n",
       "</table>\n",
       "</div>"
      ],
      "text/plain": [
       "         object_id        creation_time               name  \\\n",
       "user_id                                                      \n",
       "0                1  2014-04-22 03:53:30     Clausen August   \n",
       "1                2  2013-11-15 03:45:04      Poole Matthew   \n",
       "2                3  2013-03-19 23:14:52  Bottrill Mitchell   \n",
       "3                4  2013-05-21 08:09:28    Clausen Nicklas   \n",
       "4                5  2013-01-17 10:14:20          Raw Grace   \n",
       "\n",
       "                              email creation_source  \\\n",
       "user_id                                               \n",
       "0          AugustCClausen@yahoo.com    GUEST_INVITE   \n",
       "1            MatthewPoole@gustr.com      ORG_INVITE   \n",
       "2        MitchellBottrill@gustr.com      ORG_INVITE   \n",
       "3         NicklasSClausen@yahoo.com    GUEST_INVITE   \n",
       "4                GraceRaw@yahoo.com    GUEST_INVITE   \n",
       "\n",
       "         last_session_creation_time  opted_in_to_mailing_list  \\\n",
       "user_id                                                         \n",
       "0                      1.398139e+09                         1   \n",
       "1                      1.396238e+09                         0   \n",
       "2                      1.363735e+09                         0   \n",
       "3                      1.369210e+09                         0   \n",
       "4                      1.358850e+09                         0   \n",
       "\n",
       "         enabled_for_marketing_drip  org_id  invited_by_user_id  adopted_user  \n",
       "user_id                                                                        \n",
       "0                                 0      11             10803.0             0  \n",
       "1                                 0       1               316.0             1  \n",
       "2                                 0      94              1525.0             0  \n",
       "3                                 0       1              5151.0             0  \n",
       "4                                 0     193              5240.0             0  "
      ]
     },
     "execution_count": 584,
     "metadata": {},
     "output_type": "execute_result"
    }
   ],
   "source": [
    "df1.set_index('object_id')\n",
    "df1.index.name = 'user_id'\n",
    "df1.head()"
   ]
  },
  {
   "cell_type": "code",
   "execution_count": 585,
   "id": "c15b32f2",
   "metadata": {
    "scrolled": true
   },
   "outputs": [
    {
     "name": "stdout",
     "output_type": "stream",
     "text": [
      "<class 'pandas.core.frame.DataFrame'>\n",
      "RangeIndex: 12000 entries, 0 to 11999\n",
      "Data columns (total 11 columns):\n",
      " #   Column                      Non-Null Count  Dtype  \n",
      "---  ------                      --------------  -----  \n",
      " 0   object_id                   12000 non-null  int64  \n",
      " 1   creation_time               12000 non-null  object \n",
      " 2   name                        12000 non-null  object \n",
      " 3   email                       12000 non-null  object \n",
      " 4   creation_source             12000 non-null  object \n",
      " 5   last_session_creation_time  8823 non-null   float64\n",
      " 6   opted_in_to_mailing_list    12000 non-null  int64  \n",
      " 7   enabled_for_marketing_drip  12000 non-null  int64  \n",
      " 8   org_id                      12000 non-null  int64  \n",
      " 9   invited_by_user_id          6417 non-null   float64\n",
      " 10  adopted_user                12000 non-null  int64  \n",
      "dtypes: float64(2), int64(5), object(4)\n",
      "memory usage: 1.0+ MB\n"
     ]
    }
   ],
   "source": [
    "df1.info()"
   ]
  },
  {
   "cell_type": "markdown",
   "id": "13c54fb5",
   "metadata": {},
   "source": [
    "Convert the `creation_time` and `last_session_creation_time` to datetime objects."
   ]
  },
  {
   "cell_type": "code",
   "execution_count": 587,
   "id": "fadffa67",
   "metadata": {},
   "outputs": [],
   "source": [
    "df1['creation_time'] = pd.to_datetime(df1['creation_time'])\n",
    "\n",
    "df1['last_session_creation_time'] = df1['last_session_creation_time'].map(lambda data: \n",
    "                                    datetime.datetime.fromtimestamp(int(data)).strftime('%Y-%m-%d %H:%M:%S'),na_action='ignore')\n",
    "\n",
    "df1['last_session_creation_time'] = pd.to_datetime(df1['last_session_creation_time'])                                                                              "
   ]
  },
  {
   "cell_type": "code",
   "execution_count": 588,
   "id": "2557a612",
   "metadata": {},
   "outputs": [],
   "source": [
    "#subtract to find time active\n",
    "df1['activity_length'] = df1['last_session_creation_time'] - df1['creation_time']\n",
    "#lets settle for seconds instead of days to make the time differences more distinct\n",
    "df1['activity_length'] = [x.total_seconds() for x in df1['activity_length']]"
   ]
  },
  {
   "cell_type": "markdown",
   "id": "253ff851",
   "metadata": {},
   "source": [
    "Find the time between these two times as `activity_length` in seconds."
   ]
  },
  {
   "cell_type": "code",
   "execution_count": 589,
   "id": "5587085e",
   "metadata": {
    "scrolled": true
   },
   "outputs": [],
   "source": [
    "df1['activity_length'] = df1['last_session_creation_time'] - df1['creation_time']\n",
    "df1['activity_length'] = [x.total_seconds() for x in df1['activity_length']]\n",
    "#df1.info()"
   ]
  },
  {
   "cell_type": "code",
   "execution_count": 590,
   "id": "fd76f5da",
   "metadata": {},
   "outputs": [
    {
     "data": {
      "text/plain": [
       "adopted_user\n",
       "0    4.368216e+05\n",
       "1    2.525076e+07\n",
       "Name: activity_length, dtype: float64"
      ]
     },
     "execution_count": 590,
     "metadata": {},
     "output_type": "execute_result"
    }
   ],
   "source": [
    "df1.groupby('adopted_user')['activity_length'].mean()"
   ]
  },
  {
   "cell_type": "markdown",
   "id": "1f903db0",
   "metadata": {},
   "source": [
    "Activity length seems to be much longer for adopted than unadopted users.\n",
    "\n",
    "Let's also count how many users were invited by a user."
   ]
  },
  {
   "cell_type": "code",
   "execution_count": 591,
   "id": "0e173b04",
   "metadata": {},
   "outputs": [],
   "source": [
    "invited_count = df1.groupby('invited_by_user_id')['object_id'].count()\n",
    "invited_count.name = 'invited_count'"
   ]
  },
  {
   "cell_type": "code",
   "execution_count": 592,
   "id": "28b062c1",
   "metadata": {},
   "outputs": [
    {
     "data": {
      "text/plain": [
       "2564"
      ]
     },
     "execution_count": 592,
     "metadata": {},
     "output_type": "execute_result"
    }
   ],
   "source": [
    "len(invited_count[invited_count > 0])"
   ]
  },
  {
   "cell_type": "code",
   "execution_count": 593,
   "id": "82802831",
   "metadata": {},
   "outputs": [],
   "source": [
    "df1 = df1.merge(invited_count, how='left',left_on='object_id', right_index=True )"
   ]
  },
  {
   "cell_type": "code",
   "execution_count": 594,
   "id": "27e0fe2b",
   "metadata": {},
   "outputs": [],
   "source": [
    "df1['invited_count'].fillna(0, inplace=True)"
   ]
  },
  {
   "cell_type": "code",
   "execution_count": 595,
   "id": "5c1d2a86",
   "metadata": {},
   "outputs": [
    {
     "data": {
      "text/plain": [
       "adopted_user\n",
       "0    0.510731\n",
       "1    0.684783\n",
       "Name: invited_count, dtype: float64"
      ]
     },
     "execution_count": 595,
     "metadata": {},
     "output_type": "execute_result"
    }
   ],
   "source": [
    "df1.groupby('adopted_user')['invited_count'].mean()"
   ]
  },
  {
   "cell_type": "markdown",
   "id": "1f69704f",
   "metadata": {},
   "source": [
    "This also seems useful."
   ]
  },
  {
   "cell_type": "code",
   "execution_count": 596,
   "id": "5cecfc49",
   "metadata": {},
   "outputs": [],
   "source": [
    "df1.invited_by_user_id = df1.invited_by_user_id.fillna(0)"
   ]
  },
  {
   "cell_type": "raw",
   "id": "ee0532ef",
   "metadata": {},
   "source": [
    "Set up dataframe with only relevant columns"
   ]
  },
  {
   "cell_type": "code",
   "execution_count": 597,
   "id": "aaa8083f",
   "metadata": {
    "scrolled": true
   },
   "outputs": [],
   "source": [
    "df = df1.iloc[:,4:]\n",
    "df = df.drop('last_session_creation_time', axis=1)\n",
    "#df = df.drop('invited_count', axis=1)\n",
    "df['activity_length'] = df['activity_length'].fillna(0)"
   ]
  },
  {
   "cell_type": "markdown",
   "id": "a2c5351a",
   "metadata": {},
   "source": [
    "Encode the categorical variables."
   ]
  },
  {
   "cell_type": "code",
   "execution_count": 598,
   "id": "82d80ceb",
   "metadata": {},
   "outputs": [],
   "source": [
    "from sklearn.preprocessing import LabelEncoder\n",
    "\n",
    "gle = LabelEncoder()\n",
    "creation_labels = gle.fit_transform(df1['creation_source'])\n",
    "df.creation_source = creation_labels\n",
    "\n",
    "org_id_labels = gle.fit_transform(df1['org_id'])\n",
    "df.org_id = org_id_labels\n",
    "\n",
    "invited_labels = gle.fit_transform(df1['invited_by_user_id'])\n",
    "df.invited_by_user_id = invited_labels"
   ]
  },
  {
   "cell_type": "code",
   "execution_count": 599,
   "id": "c5e34bdc",
   "metadata": {
    "scrolled": true
   },
   "outputs": [
    {
     "data": {
      "text/html": [
       "<div>\n",
       "<style scoped>\n",
       "    .dataframe tbody tr th:only-of-type {\n",
       "        vertical-align: middle;\n",
       "    }\n",
       "\n",
       "    .dataframe tbody tr th {\n",
       "        vertical-align: top;\n",
       "    }\n",
       "\n",
       "    .dataframe thead th {\n",
       "        text-align: right;\n",
       "    }\n",
       "</style>\n",
       "<table border=\"1\" class=\"dataframe\">\n",
       "  <thead>\n",
       "    <tr style=\"text-align: right;\">\n",
       "      <th></th>\n",
       "      <th>creation_source</th>\n",
       "      <th>opted_in_to_mailing_list</th>\n",
       "      <th>enabled_for_marketing_drip</th>\n",
       "      <th>org_id</th>\n",
       "      <th>invited_by_user_id</th>\n",
       "      <th>adopted_user</th>\n",
       "      <th>activity_length</th>\n",
       "      <th>invited_count</th>\n",
       "    </tr>\n",
       "    <tr>\n",
       "      <th>user_id</th>\n",
       "      <th></th>\n",
       "      <th></th>\n",
       "      <th></th>\n",
       "      <th></th>\n",
       "      <th></th>\n",
       "      <th></th>\n",
       "      <th></th>\n",
       "      <th></th>\n",
       "    </tr>\n",
       "  </thead>\n",
       "  <tbody>\n",
       "    <tr>\n",
       "      <th>0</th>\n",
       "      <td>0</td>\n",
       "      <td>1</td>\n",
       "      <td>0</td>\n",
       "      <td>11</td>\n",
       "      <td>2325</td>\n",
       "      <td>0</td>\n",
       "      <td>-21600.0</td>\n",
       "      <td>0.0</td>\n",
       "    </tr>\n",
       "    <tr>\n",
       "      <th>1</th>\n",
       "      <td>1</td>\n",
       "      <td>0</td>\n",
       "      <td>0</td>\n",
       "      <td>1</td>\n",
       "      <td>56</td>\n",
       "      <td>1</td>\n",
       "      <td>11728800.0</td>\n",
       "      <td>0.0</td>\n",
       "    </tr>\n",
       "    <tr>\n",
       "      <th>2</th>\n",
       "      <td>1</td>\n",
       "      <td>0</td>\n",
       "      <td>0</td>\n",
       "      <td>94</td>\n",
       "      <td>298</td>\n",
       "      <td>0</td>\n",
       "      <td>-21600.0</td>\n",
       "      <td>1.0</td>\n",
       "    </tr>\n",
       "    <tr>\n",
       "      <th>3</th>\n",
       "      <td>0</td>\n",
       "      <td>0</td>\n",
       "      <td>0</td>\n",
       "      <td>1</td>\n",
       "      <td>1104</td>\n",
       "      <td>0</td>\n",
       "      <td>64800.0</td>\n",
       "      <td>0.0</td>\n",
       "    </tr>\n",
       "    <tr>\n",
       "      <th>4</th>\n",
       "      <td>0</td>\n",
       "      <td>0</td>\n",
       "      <td>0</td>\n",
       "      <td>193</td>\n",
       "      <td>1127</td>\n",
       "      <td>0</td>\n",
       "      <td>406800.0</td>\n",
       "      <td>0.0</td>\n",
       "    </tr>\n",
       "  </tbody>\n",
       "</table>\n",
       "</div>"
      ],
      "text/plain": [
       "         creation_source  opted_in_to_mailing_list  \\\n",
       "user_id                                              \n",
       "0                      0                         1   \n",
       "1                      1                         0   \n",
       "2                      1                         0   \n",
       "3                      0                         0   \n",
       "4                      0                         0   \n",
       "\n",
       "         enabled_for_marketing_drip  org_id  invited_by_user_id  adopted_user  \\\n",
       "user_id                                                                         \n",
       "0                                 0      11                2325             0   \n",
       "1                                 0       1                  56             1   \n",
       "2                                 0      94                 298             0   \n",
       "3                                 0       1                1104             0   \n",
       "4                                 0     193                1127             0   \n",
       "\n",
       "         activity_length  invited_count  \n",
       "user_id                                  \n",
       "0               -21600.0            0.0  \n",
       "1             11728800.0            0.0  \n",
       "2               -21600.0            1.0  \n",
       "3                64800.0            0.0  \n",
       "4               406800.0            0.0  "
      ]
     },
     "execution_count": 599,
     "metadata": {},
     "output_type": "execute_result"
    }
   ],
   "source": [
    "df.head()"
   ]
  },
  {
   "cell_type": "code",
   "execution_count": 600,
   "id": "e44df734",
   "metadata": {},
   "outputs": [],
   "source": [
    "X = df.drop('adopted_user', axis=1)\n",
    "y = df.adopted_user\n",
    "X_train, y_train, X_test, y_test = train_test_split(X, y, test_size=0.33, random_state=714)"
   ]
  },
  {
   "cell_type": "code",
   "execution_count": 601,
   "id": "0302a0e1",
   "metadata": {
    "scrolled": true
   },
   "outputs": [
    {
     "data": {
      "text/plain": [
       "0.967929292929293"
      ]
     },
     "execution_count": 601,
     "metadata": {},
     "output_type": "execute_result"
    }
   ],
   "source": [
    "from sklearn.ensemble import RandomForestClassifier\n",
    "\n",
    "#train and test classifier\n",
    "rf = RandomForestClassifier(class_weight='balanced_subsample')\n",
    "\n",
    "rf.fit(X_train, X_test)\n",
    "\n",
    "rf.score(y_train, y_test)"
   ]
  },
  {
   "cell_type": "markdown",
   "id": "2092dc9c",
   "metadata": {},
   "source": [
    "Well that looks great. "
   ]
  },
  {
   "cell_type": "code",
   "execution_count": 602,
   "id": "5b602ede",
   "metadata": {
    "scrolled": true
   },
   "outputs": [
    {
     "data": {
      "image/png": "[encoded data removed]",
      "text/plain": [
       "<Figure size 1200x1000 with 2 Axes>"
      ]
     },
     "metadata": {},
     "output_type": "display_data"
    }
   ],
   "source": [
    "plt.subplots(figsize=(12,10))\n",
    "sns.heatmap(df.corr());"
   ]
  },
  {
   "cell_type": "markdown",
   "id": "4f197d54",
   "metadata": {},
   "source": [
    "Seems like the created features are correlated to the target."
   ]
  },
  {
   "cell_type": "code",
   "execution_count": 603,
   "id": "ed416d7a",
   "metadata": {},
   "outputs": [
    {
     "name": "stdout",
     "output_type": "stream",
     "text": [
      "              precision    recall  f1-score   support\n",
      "\n",
      "           0       0.98      0.98      0.98      3414\n",
      "           1       0.90      0.87      0.88       546\n",
      "\n",
      "    accuracy                           0.97      3960\n",
      "   macro avg       0.94      0.93      0.93      3960\n",
      "weighted avg       0.97      0.97      0.97      3960\n",
      "\n",
      "confusion matrix:\n",
      "[[3360   54]\n",
      " [  73  473]]\n"
     ]
    }
   ],
   "source": [
    "from sklearn.metrics import classification_report, confusion_matrix\n",
    "\n",
    "#print out classification report and confusion matrix\n",
    "y_pred = rf.predict(y_train)\n",
    "\n",
    "print(classification_report(y_test, y_pred))\n",
    "print('confusion matrix:')\n",
    "print(confusion_matrix(y_test,y_pred))"
   ]
  },
  {
   "cell_type": "markdown",
   "id": "38b7530d",
   "metadata": {},
   "source": [
    "Still loooks great. We could probably improve slightly with a parameter grid.\n",
    "\n",
    "Let's see which features are the most important."
   ]
  },
  {
   "cell_type": "code",
   "execution_count": 604,
   "id": "1587a619",
   "metadata": {
    "scrolled": false
   },
   "outputs": [
    {
     "data": {
      "text/plain": [
       "activity_length               0.895520\n",
       "org_id                        0.050701\n",
       "invited_by_user_id            0.025189\n",
       "creation_source               0.012270\n",
       "invited_count                 0.009731\n",
       "opted_in_to_mailing_list      0.003645\n",
       "enabled_for_marketing_drip    0.002945\n",
       "Name: coef, dtype: float64"
      ]
     },
     "execution_count": 604,
     "metadata": {},
     "output_type": "execute_result"
    }
   ],
   "source": [
    "#make a df that displays the cofficients indexed by feature name\n",
    "feature_importance = pd.DataFrame()\n",
    "feature_importance['coef'] = rf.feature_importances_\n",
    "feature_importance = feature_importance.set_index(X.columns)\n",
    "feature_importance.coef.nlargest(10)"
   ]
  },
  {
   "cell_type": "code",
   "execution_count": 605,
   "id": "65f04671",
   "metadata": {},
   "outputs": [],
   "source": [
    "#define func to find ecdf of dataset\n",
    "def ecdf(array):\n",
    "    \"\"\"Compute Estimated CDF for a one-dimensional array.\"\"\"\n",
    "    n = len(array)\n",
    "    x = np.sort(array)\n",
    "    y = np.arange(1, n+1) / n\n",
    "    return x, y"
   ]
  },
  {
   "cell_type": "markdown",
   "id": "702df36a",
   "metadata": {},
   "source": [
    "Plot the Estimated CDF for `adopted` and `Non-adopted` "
   ]
  },
  {
   "cell_type": "code",
   "execution_count": 606,
   "id": "8a017df5",
   "metadata": {},
   "outputs": [],
   "source": [
    "adopted = df.activity_length.loc[df['adopted_user'] == 1]\n",
    "not_adopted = df.activity_length.loc[df['adopted_user'] == 0]"
   ]
  },
  {
   "cell_type": "code",
   "execution_count": 607,
   "id": "0853bdc1",
   "metadata": {
    "scrolled": false
   },
   "outputs": [
    {
     "data": {
      "image/png": "[encoded data removed]",
      "text/plain": [
       "<Figure size 1000x500 with 1 Axes>"
      ]
     },
     "metadata": {},
     "output_type": "display_data"
    }
   ],
   "source": [
    "#set fig size\n",
    "%matplotlib inline\n",
    "plt.figure(figsize=(10,5))\n",
    "\n",
    "x_active, y_active = ecdf(adopted)\n",
    "x_inactive, y_inactive = ecdf(not_adopted)\n",
    "\n",
    "plt.plot(x_active, y_active, marker='.', linestyle='none')\n",
    "plt.plot(x_inactive, y_inactive, marker='.', linestyle='none')\n",
    "plt.title('Length of Activity between Adopted and Non-Adopted Users')\n",
    "plt.xlabel('Length of Activity (10 million sec)')\n",
    "plt.ylabel('Estimated CDF')\n",
    "plt.legend(['adopted', 'not adopted'])\n",
    "plt.show()"
   ]
  },
  {
   "cell_type": "markdown",
   "id": "f443c7bc",
   "metadata": {},
   "source": [
    "Clearly, activity length is a great indicator as the activity of non-adopted users drops of quickly and it appears the maximum of non-adopted users is right around the median of the adopted users.\n",
    "\n"
   ]
  }
 ],
 "metadata": {
  "kernelspec": {
   "display_name": "Python [conda env:snakes]",
   "language": "python",
   "name": "conda-env-snakes-py"
  },
  "language_info": {
   "codemirror_mode": {
    "name": "ipython",
    "version": 3
   },
   "file_extension": ".py",
   "mimetype": "text/x-python",
   "name": "python",
   "nbconvert_exporter": "python",
   "pygments_lexer": "ipython3",
   "version": "3.9.18"
  }
 },
 "nbformat": 4,
 "nbformat_minor": 5
}
